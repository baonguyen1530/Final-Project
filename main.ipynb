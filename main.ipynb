{
 "cells": [
  {
   "cell_type": "markdown",
   "id": "809c8d4f",
   "metadata": {},
   "source": [
    "# Machine Learning Final Project Document\n",
    "* By Bao, Cherif, Lucas Liona\n",
    "\n",
    "--------------------------------------------------------------------------------------------\n",
    "\n",
    "This is a Jupyter Notebook, this allows us to both show the code/statistics and give our commentary on challenges we faced and how each step impacted our final project\n",
    "\n",
    "# Project Outline\n",
    "* Step 1: Read data and extract relevant features (can be done manually with Occurence and Composition)\n",
    "* Step 2: You will need to prepare the data (properly put them together with labels) and use different ML methods (KNN, SVM, Bayes, ANN, Random Forest).\n",
    "    * This is a multiclass classification problem\n",
    "* Step 3: Analyze and Interpret output\n",
    "    - Independent Test Set\n",
    "    - K-Fold Cross Validation\n",
    "    - Accuracy, Precision, Recall, AUC\n",
    "    - Dicuss Reults and Interprate Output\n",
    "\n",
    "\n",
    "## Step 1:"
   ]
  },
  {
   "cell_type": "code",
   "execution_count": null,
   "id": "6619d4b9",
   "metadata": {},
   "outputs": [
    {
     "ename": "",
     "evalue": "",
     "output_type": "error",
     "traceback": [
      "\u001b[1;31mRunning cells with 'Python 3.12.9' requires the ipykernel package.\n",
      "\u001b[1;31m<a href='command:jupyter.createPythonEnvAndSelectController'>Create a Python Environment</a> with the required packages."
     ]
    }
   ],
   "source": [
    "# Step 1: Load the data\n",
    "g_data = pd.read_csv(\"g_data.csv\", header=None, names=['Class', 'Fold', 'ProteinID', 'Sequence'])  # Protein sequences\n",
    "occur_data = pd.read_csv(\"occur.csv\")  # Occurrence features\n",
    "attributes_data = pd.read_csv(\"attributes.csv\", skiprows=1)  # Physicochemical properties\n",
    "\n",
    "\n",
    "# Process the attributes data to create a dictionary for easy access\n",
    "amino_acids = 'ACDEFGHIKLMNPQRSTVWY'\n",
    "attributes_dict = {}\n",
    "\n",
    "\n",
    "# Process each physicochemical property\n",
    "for i in range(1, 10):  # Using first 9 properties for simplicity, can be extended\n",
    "    property_name = attributes_data.iloc[i-1, 1]\n",
    "    property_values = {}\n",
    "    for j, aa in enumerate(amino_acids):\n",
    "        property_values[aa] = float(attributes_data.iloc[i-1, j+2])\n",
    "    attributes_dict[property_name] = property_values\n"
   ]
  }
 ],
 "metadata": {
  "kernelspec": {
   "display_name": "Python 3",
   "language": "python",
   "name": "python3"
  },
  "language_info": {
   "name": "python",
   "version": "3.12.9"
  }
 },
 "nbformat": 4,
 "nbformat_minor": 5
}
